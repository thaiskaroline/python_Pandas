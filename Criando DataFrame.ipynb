{
 "cells": [
  {
   "cell_type": "code",
   "execution_count": 1,
   "id": "57de6a1a",
   "metadata": {},
   "outputs": [
    {
     "name": "stdout",
     "output_type": "stream",
     "text": [
      "Requirement already satisfied: pandas in c:\\users\\thais\\anaconda3\\lib\\site-packages (2.0.3)\n",
      "Requirement already satisfied: python-dateutil>=2.8.2 in c:\\users\\thais\\anaconda3\\lib\\site-packages (from pandas) (2.8.2)\n",
      "Requirement already satisfied: pytz>=2020.1 in c:\\users\\thais\\anaconda3\\lib\\site-packages (from pandas) (2023.3.post1)\n",
      "Requirement already satisfied: tzdata>=2022.1 in c:\\users\\thais\\anaconda3\\lib\\site-packages (from pandas) (2023.3)\n",
      "Requirement already satisfied: numpy>=1.21.0 in c:\\users\\thais\\anaconda3\\lib\\site-packages (from pandas) (1.24.3)\n",
      "Requirement already satisfied: six>=1.5 in c:\\users\\thais\\anaconda3\\lib\\site-packages (from python-dateutil>=2.8.2->pandas) (1.16.0)\n"
     ]
    }
   ],
   "source": [
    "!pip install pandas"
   ]
  },
  {
   "cell_type": "code",
   "execution_count": 2,
   "id": "04ad467e",
   "metadata": {},
   "outputs": [
    {
     "name": "stdout",
     "output_type": "stream",
     "text": [
      "Requirement already satisfied: numpy in c:\\users\\thais\\anaconda3\\lib\\site-packages (1.24.3)Note: you may need to restart the kernel to use updated packages.\n",
      "\n"
     ]
    }
   ],
   "source": [
    "pip install numpy"
   ]
  },
  {
   "cell_type": "code",
   "execution_count": 7,
   "id": "8ad34313",
   "metadata": {},
   "outputs": [
    {
     "name": "stdout",
     "output_type": "stream",
     "text": [
      "DatetimeIndex(['2024-02-29', '2024-03-31', '2024-04-30', '2024-05-31',\n",
      "               '2024-06-30', '2024-07-31', '2024-08-31', '2024-09-30',\n",
      "               '2024-10-31', '2024-11-30', '2024-12-31', '2025-01-31',\n",
      "               '2025-02-28', '2025-03-31', '2025-04-30', '2025-05-31',\n",
      "               '2025-06-30', '2025-07-31', '2025-08-31', '2025-09-30',\n",
      "               '2025-10-31', '2025-11-30', '2025-12-31', '2026-01-31',\n",
      "               '2026-02-28', '2026-03-31', '2026-04-30', '2026-05-31',\n",
      "               '2026-06-30'],\n",
      "              dtype='datetime64[ns]', freq='M')\n"
     ]
    }
   ],
   "source": [
    "import pandas as opcoesPandas\n",
    "import numpy as opcoesNumpy\n",
    "\n",
    "dataFrame_Datas = opcoesPandas.date_range(\"20240229\",periods=29, freq = \"M\")\n",
    "\n",
    "print(dataFrame_Datas)"
   ]
  },
  {
   "cell_type": "code",
   "execution_count": 8,
   "id": "9c443cb4",
   "metadata": {},
   "outputs": [
    {
     "name": "stdout",
     "output_type": "stream",
     "text": [
      "          0\n",
      "0  0.356420\n",
      "1  0.348523\n",
      "2  0.237376\n",
      "3  0.568707\n",
      "4  0.571342\n"
     ]
    }
   ],
   "source": [
    "import pandas as opcoesPandas\n",
    "import numpy as opcoesNumpy\n",
    "\n",
    "numerosAleatorios = opcoesPandas.DataFrame(opcoesNumpy.random.rand(5,1))\n",
    "\n",
    "print(numerosAleatorios)"
   ]
  },
  {
   "cell_type": "code",
   "execution_count": 9,
   "id": "6ff7a78b",
   "metadata": {},
   "outputs": [
    {
     "name": "stdout",
     "output_type": "stream",
     "text": [
      "           0         1         2         3         4         5         6  \\\n",
      "0   0.564690  0.214750  0.516075  0.649212  0.455103  0.986558  0.942096   \n",
      "1   0.055269  0.792763  0.648092  0.274321  0.014168  0.999862  0.410477   \n",
      "2   0.378493  0.064735  0.487934  0.724969  0.659910  0.257358  0.829662   \n",
      "3   0.530177  0.541564  0.711719  0.126482  0.838513  0.624222  0.144687   \n",
      "4   0.700115  0.299271  0.117319  0.994450  0.590200  0.734427  0.671673   \n",
      "5   0.381819  0.930730  0.206256  0.197553  0.483253  0.406093  0.131316   \n",
      "6   0.395106  0.582699  0.722039  0.811817  0.062920  0.158587  0.125675   \n",
      "7   0.861392  0.117130  0.842406  0.814794  0.697233  0.960503  0.829375   \n",
      "8   0.633267  0.545824  0.953357  0.065576  0.486407  0.565344  0.162444   \n",
      "9   0.797469  0.982280  0.629870  0.259064  0.045540  0.564397  0.194179   \n",
      "10  0.749928  0.817213  0.320075  0.374544  0.085398  0.311348  0.525976   \n",
      "11  0.935072  0.676196  0.192657  0.877586  0.781033  0.648921  0.652705   \n",
      "12  0.981199  0.513868  0.091866  0.413594  0.907508  0.710215  0.773898   \n",
      "13  0.008135  0.576983  0.159218  0.740207  0.286083  0.727433  0.377717   \n",
      "14  0.578607  0.372818  0.290412  0.880083  0.191581  0.480473  0.807404   \n",
      "\n",
      "           7         8         9  \n",
      "0   0.046174  0.071513  0.560603  \n",
      "1   0.178203  0.099098  0.516232  \n",
      "2   0.124684  0.028664  0.583068  \n",
      "3   0.721291  0.991129  0.214630  \n",
      "4   0.397254  0.418391  0.564012  \n",
      "5   0.436922  0.610215  0.931896  \n",
      "6   0.578112  0.910249  0.787868  \n",
      "7   0.266857  0.439107  0.010449  \n",
      "8   0.569577  0.202399  0.791903  \n",
      "9   0.080923  0.343450  0.783042  \n",
      "10  0.733136  0.922501  0.232512  \n",
      "11  0.628557  0.015148  0.634577  \n",
      "12  0.747516  0.928936  0.937334  \n",
      "13  0.439919  0.040452  0.078438  \n",
      "14  0.481860  0.293046  0.275750  \n"
     ]
    }
   ],
   "source": [
    "import pandas as opcoesPandas\n",
    "import numpy as opcoesNumpy\n",
    "\n",
    "numerosAleatorios = opcoesPandas.DataFrame(opcoesNumpy.random.rand(15,10))\n",
    "\n",
    "print(numerosAleatorios)"
   ]
  },
  {
   "cell_type": "code",
   "execution_count": null,
   "id": "9195e4f1",
   "metadata": {},
   "outputs": [],
   "source": [
    "import pandas as opcoesPandas\n",
    "import numpy as opcoesNumpy\n",
    "\n",
    "notasAlunos = opcoesPandas.DataFrame({\n",
    "    \"Nome\":[\"Thais\", \"Vinicius\", \"Pedro\"]\n",
    "    \"Nome\":[\"Thais\", \"Vinicius\", \"Pedro\"]\n",
    "})"
   ]
  }
 ],
 "metadata": {
  "kernelspec": {
   "display_name": "Python 3 (ipykernel)",
   "language": "python",
   "name": "python3"
  },
  "language_info": {
   "codemirror_mode": {
    "name": "ipython",
    "version": 3
   },
   "file_extension": ".py",
   "mimetype": "text/x-python",
   "name": "python",
   "nbconvert_exporter": "python",
   "pygments_lexer": "ipython3",
   "version": "3.11.5"
  }
 },
 "nbformat": 4,
 "nbformat_minor": 5
}
